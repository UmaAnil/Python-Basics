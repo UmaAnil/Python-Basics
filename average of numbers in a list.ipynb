{
 "cells": [
  {
   "cell_type": "code",
   "execution_count": 10,
   "id": "9557c208",
   "metadata": {},
   "outputs": [
    {
     "name": "stdout",
     "output_type": "stream",
     "text": [
      "enter limit4\n",
      "enter 4   numbers\n",
      "5\n",
      "7\n",
      "9\n",
      "9\n",
      "[5, 7, 9, 9]\n",
      "Average of the numbers are :  7.5\n"
     ]
    }
   ],
   "source": [
    "def avg(n):\n",
    "    \n",
    "    arr=[]\n",
    "    sum1=0\n",
    "    print(\"enter\",n,\" \", \"numbers\")\n",
    "    for i in range(n):\n",
    "        arr.append(int(input()))\n",
    "    print(arr)\n",
    "    for j in arr:\n",
    "       sum1+=j\n",
    "\n",
    "    avg=sum1/n\n",
    "    print(\"Average of the numbers are : \",avg)\n",
    "    pass\n",
    "\n",
    "n=int(input('enter limit'))\n",
    "out=avg(n)\n",
    "        "
   ]
  },
  {
   "cell_type": "code",
   "execution_count": null,
   "id": "3fa147a1",
   "metadata": {},
   "outputs": [],
   "source": []
  }
 ],
 "metadata": {
  "kernelspec": {
   "display_name": "Python 3",
   "language": "python",
   "name": "python3"
  },
  "language_info": {
   "codemirror_mode": {
    "name": "ipython",
    "version": 3
   },
   "file_extension": ".py",
   "mimetype": "text/x-python",
   "name": "python",
   "nbconvert_exporter": "python",
   "pygments_lexer": "ipython3",
   "version": "3.8.8"
  }
 },
 "nbformat": 4,
 "nbformat_minor": 5
}
