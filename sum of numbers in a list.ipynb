{
 "cells": [
  {
   "cell_type": "code",
   "execution_count": 1,
   "id": "c26e23dc",
   "metadata": {},
   "outputs": [
    {
     "name": "stdout",
     "output_type": "stream",
     "text": [
      "number of elements in the list : 5\n",
      "enter elements\n",
      "2\n",
      "3\n",
      "-5\n",
      "-8\n",
      "1\n",
      "sum of positive even numbers :  2\n",
      "sum of positive odd numbers :  4\n",
      "sum of negative numbers :  -13\n"
     ]
    }
   ],
   "source": [
    "def sumof():\n",
    "    arr=[]\n",
    "    print('enter elements')\n",
    "    for i in range(0,n):\n",
    "        arr.append(int(input()))\n",
    "    \n",
    "    s1=0\n",
    "    s2=0\n",
    "    s3=0\n",
    "    \n",
    "    for j in arr:\n",
    "        if(j>0):\n",
    "            if(j%2==0):\n",
    "                s1=s1+j\n",
    "            else:\n",
    "                s2=s2+j\n",
    "        else:\n",
    "            s3=s3+j\n",
    "    \n",
    "    print('sum of positive even numbers : ',s1)\n",
    "    print('sum of positive odd numbers : ',s2)\n",
    "    print('sum of negative numbers : ',s3)\n",
    "    pass\n",
    "\n",
    "n=int(input('number of elements in the list : '))\n",
    "sumof()"
   ]
  },
  {
   "cell_type": "code",
   "execution_count": null,
   "id": "1196e4ed",
   "metadata": {},
   "outputs": [],
   "source": []
  }
 ],
 "metadata": {
  "kernelspec": {
   "display_name": "Python 3",
   "language": "python",
   "name": "python3"
  },
  "language_info": {
   "codemirror_mode": {
    "name": "ipython",
    "version": 3
   },
   "file_extension": ".py",
   "mimetype": "text/x-python",
   "name": "python",
   "nbconvert_exporter": "python",
   "pygments_lexer": "ipython3",
   "version": "3.8.8"
  }
 },
 "nbformat": 4,
 "nbformat_minor": 5
}
