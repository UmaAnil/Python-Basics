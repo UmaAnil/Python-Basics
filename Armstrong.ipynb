{
 "cells": [
  {
   "cell_type": "code",
   "execution_count": 8,
   "id": "fce6a6fd",
   "metadata": {},
   "outputs": [
    {
     "name": "stdout",
     "output_type": "stream",
     "text": [
      "enter a number3\n",
      "The number is not armstrong\n"
     ]
    }
   ],
   "source": [
    "def armstrong():\n",
    "    n=int(input('enter a number'))\n",
    "    num=n\n",
    "    sum=0\n",
    "    while(num>0):\n",
    "        rem=num%10\n",
    "        cube=rem**3\n",
    "        sum=sum+cube\n",
    "        num=num//10\n",
    "    if(n==sum):\n",
    "        print('The number is armstrong')\n",
    "    else:\n",
    "        print('The number is not armstrong')\n",
    "    pass\n",
    "\n",
    "armstrong()\n",
    "\n",
    "        "
   ]
  },
  {
   "cell_type": "code",
   "execution_count": null,
   "id": "7035b5f3",
   "metadata": {},
   "outputs": [],
   "source": []
  }
 ],
 "metadata": {
  "kernelspec": {
   "display_name": "Python 3",
   "language": "python",
   "name": "python3"
  },
  "language_info": {
   "codemirror_mode": {
    "name": "ipython",
    "version": 3
   },
   "file_extension": ".py",
   "mimetype": "text/x-python",
   "name": "python",
   "nbconvert_exporter": "python",
   "pygments_lexer": "ipython3",
   "version": "3.8.8"
  }
 },
 "nbformat": 4,
 "nbformat_minor": 5
}
