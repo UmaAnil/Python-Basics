{
 "cells": [
  {
   "cell_type": "code",
   "execution_count": 1,
   "id": "4ffd2d76",
   "metadata": {},
   "outputs": [
    {
     "name": "stdout",
     "output_type": "stream",
     "text": [
      "enter steps4\n",
      "   ****\n",
      "   ***\n",
      "   **\n",
      "   *\n"
     ]
    }
   ],
   "source": [
    "def invertstar(n):\n",
    "    for i in range(n,0,-1):\n",
    "        print((n-1)*' '+(i*'*'))\n",
    "\n",
    "pass        \n",
    "n=int(input(\"enter steps\"))\n",
    "invertstar(n)\n"
   ]
  },
  {
   "cell_type": "code",
   "execution_count": null,
   "id": "c25a1457",
   "metadata": {},
   "outputs": [],
   "source": []
  }
 ],
 "metadata": {
  "kernelspec": {
   "display_name": "Python 3",
   "language": "python",
   "name": "python3"
  },
  "language_info": {
   "codemirror_mode": {
    "name": "ipython",
    "version": 3
   },
   "file_extension": ".py",
   "mimetype": "text/x-python",
   "name": "python",
   "nbconvert_exporter": "python",
   "pygments_lexer": "ipython3",
   "version": "3.8.8"
  }
 },
 "nbformat": 4,
 "nbformat_minor": 5
}
