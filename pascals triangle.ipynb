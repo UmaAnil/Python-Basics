{
 "cells": [
  {
   "cell_type": "code",
   "execution_count": 5,
   "id": "67fd1901",
   "metadata": {},
   "outputs": [
    {
     "name": "stdout",
     "output_type": "stream",
     "text": [
      "enter number of levels9\n",
      "          1 \n",
      "         1 1 \n",
      "        1 2 1 \n",
      "       1 3 3 1 \n",
      "      1 4 6 4 1 \n",
      "     1 5 10 10 5 1 \n",
      "    1 6 15 20 15 6 1 \n",
      "   1 7 21 35 35 21 7 1 \n",
      "  1 8 28 56 70 56 28 8 1 \n"
     ]
    }
   ],
   "source": [
    "from math import factorial\n",
    "\n",
    "def pascals_tri():\n",
    "    n=int(input('enter number of levels'))\n",
    "    for i in range(n):\n",
    "                for j in range(n-i+1):\n",
    "                    print(end=\" \")\n",
    "                \n",
    "                for j in range(i+1):\n",
    "                    print(factorial(i)//(factorial(j)*factorial(i-j)),end=\" \")\n",
    "                print()\n",
    "    pass\n",
    "                \n",
    "pascals_tri()                \n",
    "                "
   ]
  },
  {
   "cell_type": "code",
   "execution_count": null,
   "id": "eb865464",
   "metadata": {},
   "outputs": [],
   "source": []
  }
 ],
 "metadata": {
  "kernelspec": {
   "display_name": "Python 3",
   "language": "python",
   "name": "python3"
  },
  "language_info": {
   "codemirror_mode": {
    "name": "ipython",
    "version": 3
   },
   "file_extension": ".py",
   "mimetype": "text/x-python",
   "name": "python",
   "nbconvert_exporter": "python",
   "pygments_lexer": "ipython3",
   "version": "3.8.8"
  }
 },
 "nbformat": 4,
 "nbformat_minor": 5
}
