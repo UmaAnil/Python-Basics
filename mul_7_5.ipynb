{
 "cells": [
  {
   "cell_type": "code",
   "execution_count": 1,
   "id": "f83c19bd",
   "metadata": {},
   "outputs": [
    {
     "name": "stdout",
     "output_type": "stream",
     "text": [
      "enter a number : 770\n",
      "35\n",
      "70\n",
      "105\n",
      "140\n",
      "175\n",
      "210\n",
      "245\n",
      "280\n",
      "315\n",
      "350\n",
      "385\n",
      "420\n",
      "455\n",
      "490\n",
      "525\n",
      "560\n",
      "595\n",
      "630\n",
      "665\n",
      "700\n",
      "735\n",
      "770\n"
     ]
    }
   ],
   "source": [
    "def mul_7_5():\n",
    "    n=int(input('enter a number : '))\n",
    "    for i in range(1,n+1):\n",
    "        if(i%7==0 and i%5==0):\n",
    "            print(i)\n",
    "    pass\n",
    "\n",
    "mul_7_5()"
   ]
  },
  {
   "cell_type": "code",
   "execution_count": null,
   "id": "079f7c95",
   "metadata": {},
   "outputs": [],
   "source": []
  },
  {
   "cell_type": "code",
   "execution_count": null,
   "id": "75cc6a11",
   "metadata": {},
   "outputs": [],
   "source": []
  }
 ],
 "metadata": {
  "kernelspec": {
   "display_name": "Python 3",
   "language": "python",
   "name": "python3"
  },
  "language_info": {
   "codemirror_mode": {
    "name": "ipython",
    "version": 3
   },
   "file_extension": ".py",
   "mimetype": "text/x-python",
   "name": "python",
   "nbconvert_exporter": "python",
   "pygments_lexer": "ipython3",
   "version": "3.8.8"
  }
 },
 "nbformat": 4,
 "nbformat_minor": 5
}
