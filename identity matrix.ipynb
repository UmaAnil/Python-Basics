{
 "cells": [
  {
   "cell_type": "code",
   "execution_count": 5,
   "id": "78cac8e8",
   "metadata": {},
   "outputs": [
    {
     "name": "stdout",
     "output_type": "stream",
     "text": [
      "enter a number4\n",
      "1000\n",
      "0100\n",
      "0010\n",
      "0001\n"
     ]
    }
   ],
   "source": [
    "def identitymat(n):\n",
    "    for i in range(n):\n",
    "        for j in range(n):\n",
    "            if(i==j):\n",
    "                print(1,end='')\n",
    "            else:\n",
    "                print(0,end='')\n",
    "        print()\n",
    "pass\n",
    "n=int(input(\"enter a number\"))\n",
    "identitymat(n)\n",
    "    "
   ]
  },
  {
   "cell_type": "code",
   "execution_count": null,
   "id": "f23d6bf5",
   "metadata": {},
   "outputs": [],
   "source": []
  }
 ],
 "metadata": {
  "kernelspec": {
   "display_name": "Python 3",
   "language": "python",
   "name": "python3"
  },
  "language_info": {
   "codemirror_mode": {
    "name": "ipython",
    "version": 3
   },
   "file_extension": ".py",
   "mimetype": "text/x-python",
   "name": "python",
   "nbconvert_exporter": "python",
   "pygments_lexer": "ipython3",
   "version": "3.8.8"
  }
 },
 "nbformat": 4,
 "nbformat_minor": 5
}
