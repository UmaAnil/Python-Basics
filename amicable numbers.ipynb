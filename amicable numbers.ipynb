{
 "cells": [
  {
   "cell_type": "code",
   "execution_count": 1,
   "id": "ac18a642",
   "metadata": {},
   "outputs": [
    {
     "name": "stdout",
     "output_type": "stream",
     "text": [
      "enter 1st number220\n",
      "enter 2nd number284\n",
      "220  and  284  are amicable numbers\n"
     ]
    }
   ],
   "source": [
    "def amicable():\n",
    "    a=int(input('enter 1st number'))\n",
    "    b=int(input('enter 2nd number'))\n",
    "    asum=0\n",
    "    bsum=0\n",
    "    for i in range(1,a):\n",
    "        if(a%i==0):\n",
    "            asum+=i\n",
    "    for j in range(1,b):\n",
    "        if(b%j==0):\n",
    "            bsum+=j\n",
    "    if(a==bsum and b==asum):\n",
    "        print(a,' and ',b,' are amicable numbers')\n",
    "    else:\n",
    "        print(a,' and ',b,' are not amicable numbers')\n",
    "        \n",
    "    pass\n",
    "\n",
    "amicable()\n",
    "        "
   ]
  },
  {
   "cell_type": "code",
   "execution_count": null,
   "id": "8adf29d5",
   "metadata": {},
   "outputs": [],
   "source": []
  }
 ],
 "metadata": {
  "kernelspec": {
   "display_name": "Python 3",
   "language": "python",
   "name": "python3"
  },
  "language_info": {
   "codemirror_mode": {
    "name": "ipython",
    "version": 3
   },
   "file_extension": ".py",
   "mimetype": "text/x-python",
   "name": "python",
   "nbconvert_exporter": "python",
   "pygments_lexer": "ipython3",
   "version": "3.8.8"
  }
 },
 "nbformat": 4,
 "nbformat_minor": 5
}
