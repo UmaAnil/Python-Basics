{
 "cells": [
  {
   "cell_type": "code",
   "execution_count": 1,
   "id": "90b8270e",
   "metadata": {},
   "outputs": [
    {
     "name": "stdout",
     "output_type": "stream",
     "text": [
      "enter a year1245\n",
      "year is not leap year\n"
     ]
    }
   ],
   "source": [
    "def leap():\n",
    "    year=int(input('enter a year'))\n",
    "    if(year%4==0 and year%100!=0 or year%400==0):\n",
    "        print('The year is leap year')\n",
    "    else:\n",
    "        print('year is not leap year')\n",
    "    pass\n",
    "\n",
    "leap()"
   ]
  },
  {
   "cell_type": "code",
   "execution_count": null,
   "id": "04574571",
   "metadata": {},
   "outputs": [],
   "source": []
  }
 ],
 "metadata": {
  "kernelspec": {
   "display_name": "Python 3",
   "language": "python",
   "name": "python3"
  },
  "language_info": {
   "codemirror_mode": {
    "name": "ipython",
    "version": 3
   },
   "file_extension": ".py",
   "mimetype": "text/x-python",
   "name": "python",
   "nbconvert_exporter": "python",
   "pygments_lexer": "ipython3",
   "version": "3.8.8"
  }
 },
 "nbformat": 4,
 "nbformat_minor": 5
}
