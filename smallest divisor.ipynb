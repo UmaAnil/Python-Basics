{
 "cells": [
  {
   "cell_type": "code",
   "execution_count": 7,
   "id": "026452a0",
   "metadata": {},
   "outputs": [
    {
     "name": "stdout",
     "output_type": "stream",
     "text": [
      "enter a number6\n",
      "smallest divisor of  6 is  2\n"
     ]
    }
   ],
   "source": [
    "def smallestdivisor(n):\n",
    "    for i in range(2,n):\n",
    "        if(n%i==0):\n",
    "            print(\"smallest divisor of \",n, \"is \", i)\n",
    "            break\n",
    "            \n",
    "pass\n",
    "\n",
    "n=int(input(\"enter a number\"))\n",
    "out=smallestdivisor(n)"
   ]
  },
  {
   "cell_type": "code",
   "execution_count": null,
   "id": "9e99ab41",
   "metadata": {},
   "outputs": [],
   "source": []
  }
 ],
 "metadata": {
  "kernelspec": {
   "display_name": "Python 3",
   "language": "python",
   "name": "python3"
  },
  "language_info": {
   "codemirror_mode": {
    "name": "ipython",
    "version": 3
   },
   "file_extension": ".py",
   "mimetype": "text/x-python",
   "name": "python",
   "nbconvert_exporter": "python",
   "pygments_lexer": "ipython3",
   "version": "3.8.8"
  }
 },
 "nbformat": 4,
 "nbformat_minor": 5
}
