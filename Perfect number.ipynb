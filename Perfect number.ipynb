{
 "cells": [
  {
   "cell_type": "code",
   "execution_count": 9,
   "id": "182d01cc",
   "metadata": {},
   "outputs": [
    {
     "name": "stdout",
     "output_type": "stream",
     "text": [
      "enter a number495\n",
      "The number is not a perfect number\n"
     ]
    }
   ],
   "source": [
    "def perfect():\n",
    "    n=int(input('enter a number'))\n",
    "    sum=0\n",
    "    for i in range(1,n):\n",
    "        if(n%i==0):\n",
    "            sum=sum+i\n",
    "    if(n==sum):\n",
    "        print(\"The number is a perfect number\")\n",
    "    else:\n",
    "        print(\"The number is not a perfect number\")\n",
    "    pass\n",
    "   \n",
    "perfect()"
   ]
  },
  {
   "cell_type": "code",
   "execution_count": null,
   "id": "b6751b58",
   "metadata": {},
   "outputs": [],
   "source": []
  },
  {
   "cell_type": "code",
   "execution_count": null,
   "id": "38f9af85",
   "metadata": {},
   "outputs": [],
   "source": []
  }
 ],
 "metadata": {
  "kernelspec": {
   "display_name": "Python 3",
   "language": "python",
   "name": "python3"
  },
  "language_info": {
   "codemirror_mode": {
    "name": "ipython",
    "version": 3
   },
   "file_extension": ".py",
   "mimetype": "text/x-python",
   "name": "python",
   "nbconvert_exporter": "python",
   "pygments_lexer": "ipython3",
   "version": "3.8.8"
  }
 },
 "nbformat": 4,
 "nbformat_minor": 5
}
