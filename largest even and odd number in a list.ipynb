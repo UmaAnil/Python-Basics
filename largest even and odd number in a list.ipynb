{
 "cells": [
  {
   "cell_type": "code",
   "execution_count": 10,
   "id": "f31c2e44",
   "metadata": {},
   "outputs": [
    {
     "name": "stdout",
     "output_type": "stream",
     "text": [
      "enter length of list : 4\n",
      "67\n",
      "89\n",
      "90\n",
      "45\n",
      "[67, 89, 90, 45]\n",
      "largest even number is :  90\n",
      "largest odd number is :  89\n"
     ]
    }
   ],
   "source": [
    "def odd_even():\n",
    "    list=[]\n",
    "    n=int(input('enter length of list : ')) \n",
    "    for i in range(0,n):\n",
    "        list.append(int(input()))\n",
    "    print(list)\n",
    "    \n",
    "    even=0\n",
    "    odd=0\n",
    "    for j in range(0,n):\n",
    "        if(list[j]%2==0):\n",
    "            if(list[j]>even):\n",
    "                even=list[j]\n",
    "        else:\n",
    "            if(list[j]>odd):\n",
    "                odd=list[j]\n",
    "    print(\"largest even number is : \",even)\n",
    "    print('largest odd number is : ',odd)\n",
    "    pass\n",
    "odd_even()"
   ]
  },
  {
   "cell_type": "code",
   "execution_count": null,
   "id": "ceea52ca",
   "metadata": {},
   "outputs": [],
   "source": []
  },
  {
   "cell_type": "code",
   "execution_count": null,
   "id": "c05cb860",
   "metadata": {},
   "outputs": [],
   "source": []
  }
 ],
 "metadata": {
  "kernelspec": {
   "display_name": "Python 3",
   "language": "python",
   "name": "python3"
  },
  "language_info": {
   "codemirror_mode": {
    "name": "ipython",
    "version": 3
   },
   "file_extension": ".py",
   "mimetype": "text/x-python",
   "name": "python",
   "nbconvert_exporter": "python",
   "pygments_lexer": "ipython3",
   "version": "3.8.8"
  }
 },
 "nbformat": 4,
 "nbformat_minor": 5
}
