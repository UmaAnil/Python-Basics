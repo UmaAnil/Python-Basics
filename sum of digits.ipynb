{
 "cells": [
  {
   "cell_type": "code",
   "execution_count": null,
   "id": "b9920613",
   "metadata": {},
   "outputs": [],
   "source": [
    "def sumofdigits(n):\n",
    "    sum1=0\n",
    "    while(n>0):    \n",
    "        remainder=n%10\n",
    "        sum1=sum1+remainder\n",
    "        n=n//10\n",
    "    print(sum1)\n",
    "pass\n",
    "\n",
    "n=int(input(\"enter a number\"))\n",
    "out=sumofdigits(n)\n",
    "    "
   ]
  },
  {
   "cell_type": "code",
   "execution_count": null,
   "id": "76fa84e9",
   "metadata": {},
   "outputs": [],
   "source": [
    "def sumofdigits(n):\n",
    "    sum1=0\n",
    "    while(n>0):    \n",
    "        remainder=n%10\n",
    "        sum1=sum1+remainder\n",
    "        n=n//10\n",
    "    print(sum1)\n",
    "pass\n",
    "\n",
    "n=int(input(\"enter a number\"))\n",
    "out=sumofdigits(n)"
   ]
  },
  {
   "cell_type": "code",
   "execution_count": null,
   "id": "0d2814a9",
   "metadata": {},
   "outputs": [],
   "source": []
  }
 ],
 "metadata": {
  "kernelspec": {
   "display_name": "Python 3",
   "language": "python",
   "name": "python3"
  },
  "language_info": {
   "codemirror_mode": {
    "name": "ipython",
    "version": 3
   },
   "file_extension": ".py",
   "mimetype": "text/x-python",
   "name": "python",
   "nbconvert_exporter": "python",
   "pygments_lexer": "ipython3",
   "version": "3.8.8"
  }
 },
 "nbformat": 4,
 "nbformat_minor": 5
}
