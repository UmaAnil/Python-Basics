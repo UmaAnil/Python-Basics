{
 "cells": [
  {
   "cell_type": "code",
   "execution_count": 3,
   "id": "9fc81239",
   "metadata": {},
   "outputs": [
    {
     "name": "stdout",
     "output_type": "stream",
     "text": [
      "enter number 12\n",
      "enter number 23\n",
      "Quotient of  2 and  3 is :  0.6666666666666666\n",
      "Remainder of  2 and  3 is :  2\n"
     ]
    }
   ],
   "source": [
    "def quot_rem(n1,n2):\n",
    "    quot=(n1/n2)\n",
    "    rem=(n1%n2)\n",
    "    print(\"Quotient of \",n1,\"and \",n2,\"is : \",quot)\n",
    "    print(\"Remainder of \",n1,\"and \",n2,\"is : \",rem)\n",
    "pass\n",
    "\n",
    "n1=int(input(\"enter number 1\"))\n",
    "n2=int(input(\"enter number 2\"))\n",
    "out=quot_rem(n1,n2)\n",
    "    "
   ]
  },
  {
   "cell_type": "code",
   "execution_count": null,
   "id": "c1034eff",
   "metadata": {},
   "outputs": [],
   "source": []
  }
 ],
 "metadata": {
  "kernelspec": {
   "display_name": "Python 3",
   "language": "python",
   "name": "python3"
  },
  "language_info": {
   "codemirror_mode": {
    "name": "ipython",
    "version": 3
   },
   "file_extension": ".py",
   "mimetype": "text/x-python",
   "name": "python",
   "nbconvert_exporter": "python",
   "pygments_lexer": "ipython3",
   "version": "3.8.8"
  }
 },
 "nbformat": 4,
 "nbformat_minor": 5
}
