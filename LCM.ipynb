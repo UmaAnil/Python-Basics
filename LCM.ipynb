{
 "cells": [
  {
   "cell_type": "code",
   "execution_count": 2,
   "id": "d89e92d1",
   "metadata": {},
   "outputs": [
    {
     "name": "stdout",
     "output_type": "stream",
     "text": [
      "enter 1st number5\n",
      "enter 2nd number7\n",
      "35\n"
     ]
    }
   ],
   "source": [
    "def lcm():\n",
    "    a=int(input('enter 1st number'))\n",
    "    b=int(input('enter 2nd number'))\n",
    "    \n",
    "    if(a>b):\n",
    "        max=a\n",
    "    else:\n",
    "        max=b\n",
    "        \n",
    "    while(True):\n",
    "        if(max%a==0 and max%b==0):\n",
    "            print(max)\n",
    "            break\n",
    "        max=max+1\n",
    "    pass\n",
    "\n",
    "lcm()\n",
    "        "
   ]
  },
  {
   "cell_type": "code",
   "execution_count": null,
   "id": "18c56e5a",
   "metadata": {},
   "outputs": [],
   "source": []
  }
 ],
 "metadata": {
  "kernelspec": {
   "display_name": "Python 3",
   "language": "python",
   "name": "python3"
  },
  "language_info": {
   "codemirror_mode": {
    "name": "ipython",
    "version": 3
   },
   "file_extension": ".py",
   "mimetype": "text/x-python",
   "name": "python",
   "nbconvert_exporter": "python",
   "pygments_lexer": "ipython3",
   "version": "3.8.8"
  }
 },
 "nbformat": 4,
 "nbformat_minor": 5
}
