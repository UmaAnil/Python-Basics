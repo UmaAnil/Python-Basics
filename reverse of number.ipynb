{
 "cells": [
  {
   "cell_type": "code",
   "execution_count": 2,
   "id": "3ab94fa2",
   "metadata": {},
   "outputs": [
    {
     "name": "stdout",
     "output_type": "stream",
     "text": [
      "enter a number341\n",
      "143\n"
     ]
    }
   ],
   "source": [
    "def reverse(n):\n",
    "    div=0\n",
    "    while(n>0):\n",
    "        remainder=n%10\n",
    "        div=(div*10)+remainder\n",
    "        n=n//10\n",
    "    print(div)\n",
    "    pass\n",
    "\n",
    "n=int(input('enter a number'))\n",
    "out=reverse(n)"
   ]
  },
  {
   "cell_type": "code",
   "execution_count": null,
   "id": "f3dfe6d5",
   "metadata": {},
   "outputs": [],
   "source": []
  }
 ],
 "metadata": {
  "kernelspec": {
   "display_name": "Python 3",
   "language": "python",
   "name": "python3"
  },
  "language_info": {
   "codemirror_mode": {
    "name": "ipython",
    "version": 3
   },
   "file_extension": ".py",
   "mimetype": "text/x-python",
   "name": "python",
   "nbconvert_exporter": "python",
   "pygments_lexer": "ipython3",
   "version": "3.8.8"
  }
 },
 "nbformat": 4,
 "nbformat_minor": 5
}
