{
 "cells": [
  {
   "cell_type": "code",
   "execution_count": 14,
   "id": "933412b9",
   "metadata": {},
   "outputs": [
    {
     "name": "stdout",
     "output_type": "stream",
     "text": [
      "enter a whole number : 8\n",
      "2\n",
      "8  is not prime\n"
     ]
    }
   ],
   "source": [
    "def prime(n):\n",
    "    flag=0\n",
    "    for i in range(2,n):\n",
    "        if(n%i==0):\n",
    "            print(i)\n",
    "            flag=1\n",
    "            break\n",
    "    if(flag==0):\n",
    "        print(n,' is prime')\n",
    "    else:\n",
    "        print(n,' is not prime')\n",
    "        \n",
    "    \n",
    "    pass\n",
    "\n",
    "n=int(input('enter a whole number : '))\n",
    "prime(n)\n",
    "            "
   ]
  },
  {
   "cell_type": "code",
   "execution_count": null,
   "id": "0df8c0a7",
   "metadata": {},
   "outputs": [],
   "source": []
  }
 ],
 "metadata": {
  "kernelspec": {
   "display_name": "Python 3",
   "language": "python",
   "name": "python3"
  },
  "language_info": {
   "codemirror_mode": {
    "name": "ipython",
    "version": 3
   },
   "file_extension": ".py",
   "mimetype": "text/x-python",
   "name": "python",
   "nbconvert_exporter": "python",
   "pygments_lexer": "ipython3",
   "version": "3.8.8"
  }
 },
 "nbformat": 4,
 "nbformat_minor": 5
}
