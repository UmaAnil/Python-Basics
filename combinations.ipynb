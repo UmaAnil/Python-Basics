{
 "cells": [
  {
   "cell_type": "code",
   "execution_count": 9,
   "id": "83d76dc2",
   "metadata": {},
   "outputs": [
    {
     "name": "stdout",
     "output_type": "stream",
     "text": [
      "enter number 1\n",
      "2\n",
      "enter number 2\n",
      "3\n",
      "enter number 3\n",
      "5\n",
      "2 3 5\n",
      "2 5 3\n",
      "3 5 2\n",
      "3 2 5\n",
      "5 2 3\n",
      "5 3 2\n"
     ]
    }
   ],
   "source": [
    "def combinations():\n",
    "    arr1=[]\n",
    "    arr2=[]\n",
    "    arr3=[]\n",
    "    print(\"enter number 1\")\n",
    "    arr1.append(int(input()))\n",
    "    print(\"enter number 2\")\n",
    "    arr2.append(int(input()))\n",
    "    print(\"enter number 3\")\n",
    "    arr3.append(int(input()))\n",
    "    if(arr1[0]!=arr2[0]and arr1[0]!=arr3[0] and arr2[0]!=arr3[0]):\n",
    "        for i in arr1:\n",
    "            for j in arr2:\n",
    "                for k in arr3:\n",
    "                    print(i,j,k)\n",
    "                    print(i,k,j)\n",
    "                    print(j,k,i)\n",
    "                    print(j,i,k)\n",
    "                    print(k,i,j)\n",
    "                    print(k,j,i)\n",
    "    else:\n",
    "        print(\"enter different numbers\")\n",
    "pass\n",
    "out=combinations()\n",
    "    "
   ]
  },
  {
   "cell_type": "code",
   "execution_count": null,
   "id": "404e924e",
   "metadata": {},
   "outputs": [],
   "source": []
  },
  {
   "cell_type": "code",
   "execution_count": null,
   "id": "c9ab595f",
   "metadata": {},
   "outputs": [],
   "source": []
  }
 ],
 "metadata": {
  "kernelspec": {
   "display_name": "Python 3",
   "language": "python",
   "name": "python3"
  },
  "language_info": {
   "codemirror_mode": {
    "name": "ipython",
    "version": 3
   },
   "file_extension": ".py",
   "mimetype": "text/x-python",
   "name": "python",
   "nbconvert_exporter": "python",
   "pygments_lexer": "ipython3",
   "version": "3.8.8"
  }
 },
 "nbformat": 4,
 "nbformat_minor": 5
}
