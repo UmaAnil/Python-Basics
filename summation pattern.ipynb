{
 "cells": [
  {
   "cell_type": "code",
   "execution_count": 5,
   "id": "780fbd7b",
   "metadata": {},
   "outputs": [
    {
     "name": "stdout",
     "output_type": "stream",
     "text": [
      "enter a number3\n",
      "1 =  1\n",
      "2 + 2 =  3\n",
      "3 + 3 + 3 =  6\n"
     ]
    }
   ],
   "source": [
    "def summation(n):\n",
    "    \n",
    "    for i in range(1,n+1):\n",
    "        arr=[]\n",
    "        \n",
    "        for j in range(1,i+1):\n",
    "            print(i,end=\"\")\n",
    "            if(j<i):\n",
    "                print(\" + \",end=\"\")\n",
    "            arr.append(j)\n",
    "            \n",
    "        print(\" = \", sum(arr))\n",
    "pass\n",
    "n=int(input(\"enter a number\"))\n",
    "summation(n)\n",
    "        "
   ]
  },
  {
   "cell_type": "code",
   "execution_count": null,
   "id": "e705597f",
   "metadata": {},
   "outputs": [],
   "source": []
  }
 ],
 "metadata": {
  "kernelspec": {
   "display_name": "Python 3",
   "language": "python",
   "name": "python3"
  },
  "language_info": {
   "codemirror_mode": {
    "name": "ipython",
    "version": 3
   },
   "file_extension": ".py",
   "mimetype": "text/x-python",
   "name": "python",
   "nbconvert_exporter": "python",
   "pygments_lexer": "ipython3",
   "version": "3.8.8"
  }
 },
 "nbformat": 4,
 "nbformat_minor": 5
}
