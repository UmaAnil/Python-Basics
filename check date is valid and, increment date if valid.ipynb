{
 "cells": [
  {
   "cell_type": "code",
   "execution_count": 6,
   "id": "7c47a0e4",
   "metadata": {},
   "outputs": [
    {
     "name": "stdout",
     "output_type": "stream",
     "text": [
      "enter the date in the format dd/mm/yyyy : 7/12/1234\n",
      "incremented date is :  8 / 12 / 1234\n"
     ]
    }
   ],
   "source": [
    "date=input(\"enter the date in the format dd/mm/yyyy : \")\n",
    "dd,mm,yy=date.split('/')\n",
    "dd=int(dd)\n",
    "mm=int(mm)\n",
    "yy=int(yy)\n",
    "\n",
    "if(mm==1 or mm==3 or mm==5 or mm==7 or mm==8 or mm==10 or mm==12):\n",
    "    max1=31\n",
    "elif(mm==4 or mm==4 or mm==6 or mm==9 or mm==11 ):\n",
    "    max1=30\n",
    "elif(yy%4==0 and yy%100!=0 or yy%400==0):\n",
    "    max1=29\n",
    "else:\n",
    "    max1=28\n",
    "    \n",
    "if(mm<1 or mm>12):\n",
    "    print('invalid date')\n",
    "elif(dd<1 or dd>max1):\n",
    "    print('invalid date')\n",
    "elif(dd==max1 and mm!=12):\n",
    "    dd=1\n",
    "    mm=mm+1\n",
    "    print('incremented date is : ',dd,'/',mm,'/',yy)\n",
    "elif(dd==31 and mm==12):\n",
    "    dd=1\n",
    "    mm=1\n",
    "    yy=yy+1\n",
    "    print('incremented date is : ',dd,'/',mm,'/',yy)\n",
    "else:\n",
    "    dd=dd+1\n",
    "    print('incremented date is : ',dd,'/',mm,'/',yy)\n"
   ]
  },
  {
   "cell_type": "code",
   "execution_count": null,
   "id": "6899f30a",
   "metadata": {},
   "outputs": [],
   "source": []
  }
 ],
 "metadata": {
  "kernelspec": {
   "display_name": "Python 3",
   "language": "python",
   "name": "python3"
  },
  "language_info": {
   "codemirror_mode": {
    "name": "ipython",
    "version": 3
   },
   "file_extension": ".py",
   "mimetype": "text/x-python",
   "name": "python",
   "nbconvert_exporter": "python",
   "pygments_lexer": "ipython3",
   "version": "3.8.8"
  }
 },
 "nbformat": 4,
 "nbformat_minor": 5
}
