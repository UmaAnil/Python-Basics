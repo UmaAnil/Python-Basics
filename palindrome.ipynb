{
 "cells": [
  {
   "cell_type": "code",
   "execution_count": null,
   "id": "b6adc91e",
   "metadata": {},
   "outputs": [],
   "source": [
    "def palindrome(n):\n",
    "    number=n      \n",
    "    num=0\n",
    "    while(n>0):\n",
    "        remainder=n%10\n",
    "        num=(num*10)+remainder\n",
    "        n=n//10\n",
    "    if(number==num):\n",
    "        print(\"number is palindrome\")\n",
    "    else:\n",
    "        print(\"number is not palindrome\")\n",
    "        \n",
    "\n",
    "n=int(input(\"enter a number\"))\n",
    "palindrome(n)\n",
    "    \n",
    "    "
   ]
  },
  {
   "cell_type": "code",
   "execution_count": null,
   "id": "2aaa6e0b",
   "metadata": {},
   "outputs": [],
   "source": []
  },
  {
   "cell_type": "code",
   "execution_count": null,
   "id": "1c0c09f4",
   "metadata": {},
   "outputs": [],
   "source": []
  }
 ],
 "metadata": {
  "kernelspec": {
   "display_name": "Python 3",
   "language": "python",
   "name": "python3"
  },
  "language_info": {
   "codemirror_mode": {
    "name": "ipython",
    "version": 3
   },
   "file_extension": ".py",
   "mimetype": "text/x-python",
   "name": "python",
   "nbconvert_exporter": "python",
   "pygments_lexer": "ipython3",
   "version": "3.8.8"
  }
 },
 "nbformat": 4,
 "nbformat_minor": 5
}
