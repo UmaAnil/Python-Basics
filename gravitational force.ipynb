{
 "cells": [
  {
   "cell_type": "code",
   "execution_count": 11,
   "id": "18f931db",
   "metadata": {},
   "outputs": [
    {
     "name": "stdout",
     "output_type": "stream",
     "text": [
      "enter mass of 1st object in kg : 5\n",
      "enter mass of 2nd object in kg : 5\n",
      "enter distance between the objects in meters : 6\n",
      "6.806 N\n"
     ]
    }
   ],
   "source": [
    "import numpy as np\n",
    "def gravity():\n",
    "    m1=float(input(\"enter mass of 1st object in kg : \"))\n",
    "    m2=float(input('enter mass of 2nd object in kg : '))\n",
    "    r=float(input('enter distance between the objects in meters : '))\n",
    "    g=9.8\n",
    "    G=(g*m1*m2)/r**2\n",
    "    a= np.round(G,3)\n",
    "    print(a,'N')\n",
    "    pass\n",
    "\n",
    "gravity()"
   ]
  },
  {
   "cell_type": "code",
   "execution_count": null,
   "id": "97c6f677",
   "metadata": {},
   "outputs": [],
   "source": []
  }
 ],
 "metadata": {
  "kernelspec": {
   "display_name": "Python 3",
   "language": "python",
   "name": "python3"
  },
  "language_info": {
   "codemirror_mode": {
    "name": "ipython",
    "version": 3
   },
   "file_extension": ".py",
   "mimetype": "text/x-python",
   "name": "python",
   "nbconvert_exporter": "python",
   "pygments_lexer": "ipython3",
   "version": "3.8.8"
  }
 },
 "nbformat": 4,
 "nbformat_minor": 5
}
