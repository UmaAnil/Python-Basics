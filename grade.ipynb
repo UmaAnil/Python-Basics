{
 "cells": [
  {
   "cell_type": "code",
   "execution_count": 1,
   "id": "b9f00f2c",
   "metadata": {},
   "outputs": [
    {
     "name": "stdout",
     "output_type": "stream",
     "text": [
      "Enter marks out of 100\n",
      "English : 78\n",
      "Maths : 67\n",
      "Physics : 67\n",
      "Chemistry : 89\n",
      "Biology : 78\n",
      "Grade is B+\n"
     ]
    }
   ],
   "source": [
    "def grade():\n",
    "    print(\"Enter marks out of 100\")\n",
    "    eng=int(input(\"English : \"))\n",
    "    math=int(input(\"Maths : \"))\n",
    "    phy=int(input(\"Physics : \"))\n",
    "    chem=int(input(\"Chemistry : \"))\n",
    "    bio=int(input(\"Biology : \"))\n",
    "    sum=eng+math+phy+chem+bio\n",
    "    if(sum>=450):\n",
    "        print(\"Grade is : A+\")\n",
    "    elif(sum>=400):\n",
    "        print(\"Grade is : A\")\n",
    "    elif(sum>350):\n",
    "        print(\"Grade is B+\")\n",
    "    elif(sum>300):\n",
    "        print(\"Grade is B\")\n",
    "    elif(sum>250):\n",
    "        print(\"Grade is C+\")\n",
    "    elif(sum>200):\n",
    "        print(\"Grade is D+\")\n",
    "    elif(sum>150):\n",
    "        print(\"Grade is D\")\n",
    "    elif(sum>100):\n",
    "        print(\"Grade is E\")\n",
    "    else:\n",
    "        print(\"Failed\")\n",
    "pass\n",
    "\n",
    "out=grade()"
   ]
  },
  {
   "cell_type": "code",
   "execution_count": null,
   "id": "980d3243",
   "metadata": {},
   "outputs": [],
   "source": []
  }
 ],
 "metadata": {
  "kernelspec": {
   "display_name": "Python 3",
   "language": "python",
   "name": "python3"
  },
  "language_info": {
   "codemirror_mode": {
    "name": "ipython",
    "version": 3
   },
   "file_extension": ".py",
   "mimetype": "text/x-python",
   "name": "python",
   "nbconvert_exporter": "python",
   "pygments_lexer": "ipython3",
   "version": "3.8.8"
  }
 },
 "nbformat": 4,
 "nbformat_minor": 5
}
