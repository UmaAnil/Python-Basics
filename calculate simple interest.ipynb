{
 "cells": [
  {
   "cell_type": "code",
   "execution_count": 5,
   "id": "8cf8acac",
   "metadata": {},
   "outputs": [
    {
     "name": "stdout",
     "output_type": "stream",
     "text": [
      "enter principal amount : 12000\n",
      "enter annuaL interest rate : 12\n",
      "enter number of times in a year : 1\n",
      "simple interest is :  1440.0\n"
     ]
    }
   ],
   "source": [
    "def simple_interest():\n",
    "    p=int(input('enter principal amount : '))\n",
    "    r=int(input('enter annuaL interest rate : '))\n",
    "    t=int(input('enter number of times in a year : '))\n",
    "    si=(p*r*t)/100\n",
    "    print(\"simple interest is : \",si)\n",
    "    pass\n",
    "simple_interest()"
   ]
  },
  {
   "cell_type": "code",
   "execution_count": null,
   "id": "937781ed",
   "metadata": {},
   "outputs": [],
   "source": []
  }
 ],
 "metadata": {
  "kernelspec": {
   "display_name": "Python 3",
   "language": "python",
   "name": "python3"
  },
  "language_info": {
   "codemirror_mode": {
    "name": "ipython",
    "version": 3
   },
   "file_extension": ".py",
   "mimetype": "text/x-python",
   "name": "python",
   "nbconvert_exporter": "python",
   "pygments_lexer": "ipython3",
   "version": "3.8.8"
  }
 },
 "nbformat": 4,
 "nbformat_minor": 5
}
