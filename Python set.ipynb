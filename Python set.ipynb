{
 "cells": [
  {
   "cell_type": "code",
   "execution_count": 1,
   "id": "376c251a",
   "metadata": {},
   "outputs": [
    {
     "name": "stdout",
     "output_type": "stream",
     "text": [
      "{1, 2, 3, 4, 5}\n"
     ]
    }
   ],
   "source": [
    "num={1,2,3,4,5}\n",
    "print(num)"
   ]
  },
  {
   "cell_type": "code",
   "execution_count": 5,
   "id": "a5369ed3",
   "metadata": {},
   "outputs": [
    {
     "name": "stdout",
     "output_type": "stream",
     "text": [
      "{}\n",
      "<class 'dict'>\n",
      "<class 'set'>\n"
     ]
    }
   ],
   "source": [
    "emptyset={}\n",
    "print(emptyset)\n",
    "print(type(emptyset))\n",
    "emptyset=set()\n",
    "print(type(emptyset))"
   ]
  },
  {
   "cell_type": "code",
   "execution_count": 6,
   "id": "7e638a2c",
   "metadata": {},
   "outputs": [
    {
     "name": "stdout",
     "output_type": "stream",
     "text": [
      "{'hi', 1, 2, 1.23}\n"
     ]
    }
   ],
   "source": [
    "set1={1,2,\"hi\",1.23}\n",
    "print(set1)"
   ]
  },
  {
   "cell_type": "code",
   "execution_count": 8,
   "id": "e689e858",
   "metadata": {},
   "outputs": [
    {
     "name": "stdout",
     "output_type": "stream",
     "text": [
      "{3, 5, 9, 12, 'h', 'i', 'good', 'morning'}\n"
     ]
    }
   ],
   "source": [
    "my_set=set()\n",
    "my_set.update([9,12])\n",
    "my_set.update((3,5))\n",
    "my_set.update(\"hi\")\n",
    "my_set.update((\"good\",\"morning\"))\n",
    "print(my_set)"
   ]
  },
  {
   "cell_type": "code",
   "execution_count": 9,
   "id": "d8b20774",
   "metadata": {},
   "outputs": [
    {
     "name": "stdout",
     "output_type": "stream",
     "text": [
      "{3, 5, 9, 'h', 'i', 'good', 'morning'}\n"
     ]
    }
   ],
   "source": [
    "my_set.discard(12)\n",
    "print(my_set)"
   ]
  },
  {
   "cell_type": "code",
   "execution_count": 11,
   "id": "f9327487",
   "metadata": {},
   "outputs": [
    {
     "name": "stdout",
     "output_type": "stream",
     "text": [
      "True\n",
      "False\n"
     ]
    }
   ],
   "source": [
    "set1=set(\"apple\")\n",
    "print('a' in set1)\n",
    "print('b' in set1)"
   ]
  },
  {
   "cell_type": "code",
   "execution_count": 12,
   "id": "ddf56107",
   "metadata": {},
   "outputs": [
    {
     "name": "stdout",
     "output_type": "stream",
     "text": [
      "Number of unique characters :  12\n",
      "List of unique characters :  {'o', 't', 'n', 'a', 'w', 'e', 'd', 'c', 'i', 'm', ' ', 'l'}\n",
      "Repeated Characters :  {'e', 'o', 'i', ' '}\n"
     ]
    }
   ],
   "source": [
    "data=\"welcome to india\"\n",
    "set2=set(data)\n",
    "\n",
    "print(\"Number of unique characters : \",len(set2))\n",
    "print(\"List of unique characters : \",set2)\n",
    "\n",
    "data=list(data)\n",
    "for ele in set2:\n",
    "    data.remove(ele)\n",
    "    \n",
    "print(\"Repeated Characters : \",set(data))"
   ]
  },
  {
   "cell_type": "code",
   "execution_count": 13,
   "id": "abdfbfe4",
   "metadata": {},
   "outputs": [
    {
     "name": "stdout",
     "output_type": "stream",
     "text": [
      "Union =  {1, 2, 3, 4, 5, 6, 7, 8}\n",
      "Intersection =  {4, 5}\n",
      "Difference =  {1, 2, 3}\n",
      "Symmetric Difference =  {1, 2, 3, 6, 7, 8}\n"
     ]
    }
   ],
   "source": [
    "A={1,2,3,4,5}\n",
    "B={4,5,6,7,8}\n",
    "\n",
    "print('Union = ', A|B)\n",
    "print('Intersection = ',A&B)\n",
    "print('Difference = ',A-B)\n",
    "print('Symmetric Difference = ',A^B)"
   ]
  },
  {
   "cell_type": "code",
   "execution_count": 15,
   "id": "1c9e8121",
   "metadata": {},
   "outputs": [
    {
     "name": "stdout",
     "output_type": "stream",
     "text": [
      "Students yet to get job :  {'anu', 'gita', 'vini', 'manu', 'pia'}\n"
     ]
    }
   ],
   "source": [
    "students={'anu','manu','gita','subbu','vini','tom','pia','lohi'}\n",
    "placed={'subbu','lohi','tom'}\n",
    "\n",
    "not_placed=set(students)-set(placed)\n",
    "print(\"Students yet to get job : \",not_placed)\n",
    "\n"
   ]
  },
  {
   "cell_type": "code",
   "execution_count": 17,
   "id": "700e67e2",
   "metadata": {},
   "outputs": [
    {
     "name": "stdout",
     "output_type": "stream",
     "text": [
      "Batsmen :  {'jadeja', 'pandya', 'rohit', 'virat', 'dhoni', 'dhawan'}\n",
      "Bowlers :  {'bhuvaneswar', 'jadeja', 'pandya', 'kuldeep', 'shami'}\n",
      "All rounders :  {'pandya', 'jadeja'}\n"
     ]
    }
   ],
   "source": [
    "bat=['virat','rohit','dhawan','dhoni','pandya','jadeja']\n",
    "bowl=['bhuvaneswar','shami','pandya','jadeja','kuldeep']\n",
    "\n",
    "all=set(bat)&set(bowl)\n",
    "\n",
    "print('Batsmen : ',set(bat))\n",
    "print('Bowlers : ',set(bowl))\n",
    "print('All rounders : ',all)"
   ]
  },
  {
   "cell_type": "code",
   "execution_count": 18,
   "id": "cb9c5d10",
   "metadata": {},
   "outputs": [
    {
     "name": "stdout",
     "output_type": "stream",
     "text": [
      "{'uma', 'jaison', 'prasad', 'aswathi', 'sangeetha', 'danish', 'lohita', 'amrutha'}\n",
      "Number of people placed :  8\n"
     ]
    }
   ],
   "source": [
    "tcs=['uma','danish','amrutha']\n",
    "infosys=['lohita','danish','aswathi']\n",
    "wipro=['sangeetha','jaison','prasad','amrutha']\n",
    "\n",
    "placed=set(tcs)|set(infosys)|set(wipro)\n",
    "print(placed)\n",
    "print('Number of people placed : ',len(placed))\n",
    "    "
   ]
  },
  {
   "cell_type": "code",
   "execution_count": 19,
   "id": "79481b3f",
   "metadata": {},
   "outputs": [
    {
     "name": "stdout",
     "output_type": "stream",
     "text": [
      "True\n",
      "True\n",
      "False\n",
      "True\n"
     ]
    }
   ],
   "source": [
    "numbers={1,2,3,4,5,6,7,8,9,10}\n",
    "odd={1,3,5,7,9}\n",
    "even={2,4,6,8,10}\n",
    "\n",
    "print(odd.isdisjoint(even))\n",
    "print(numbers.issuperset(odd))\n",
    "print(odd.issuperset(numbers))\n",
    "print(odd.issubset(numbers))"
   ]
  },
  {
   "cell_type": "code",
   "execution_count": null,
   "id": "fa01d424",
   "metadata": {},
   "outputs": [],
   "source": []
  }
 ],
 "metadata": {
  "kernelspec": {
   "display_name": "Python 3",
   "language": "python",
   "name": "python3"
  },
  "language_info": {
   "codemirror_mode": {
    "name": "ipython",
    "version": 3
   },
   "file_extension": ".py",
   "mimetype": "text/x-python",
   "name": "python",
   "nbconvert_exporter": "python",
   "pygments_lexer": "ipython3",
   "version": "3.8.8"
  }
 },
 "nbformat": 4,
 "nbformat_minor": 5
}
