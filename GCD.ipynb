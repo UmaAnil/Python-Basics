{
 "cells": [
  {
   "cell_type": "code",
   "execution_count": 4,
   "id": "ff40b2c4",
   "metadata": {},
   "outputs": [
    {
     "name": "stdout",
     "output_type": "stream",
     "text": [
      "enter 1st number345\n",
      "enter 2nd number560\n",
      "GCD is :  5\n"
     ]
    }
   ],
   "source": [
    "import math\n",
    "def gcd():\n",
    "    a=int(input('enter 1st number'))\n",
    "    b=int(input('enter 2nd number'))\n",
    "    \n",
    "    gcd=(math.gcd(a,b))\n",
    "    print('GCD is : ' ,gcd)\n",
    "    pass\n",
    "\n",
    "gcd()"
   ]
  },
  {
   "cell_type": "code",
   "execution_count": null,
   "id": "363ede8b",
   "metadata": {},
   "outputs": [],
   "source": []
  }
 ],
 "metadata": {
  "kernelspec": {
   "display_name": "Python 3",
   "language": "python",
   "name": "python3"
  },
  "language_info": {
   "codemirror_mode": {
    "name": "ipython",
    "version": 3
   },
   "file_extension": ".py",
   "mimetype": "text/x-python",
   "name": "python",
   "nbconvert_exporter": "python",
   "pygments_lexer": "ipython3",
   "version": "3.8.8"
  }
 },
 "nbformat": 4,
 "nbformat_minor": 5
}
