{
 "cells": [
  {
   "cell_type": "code",
   "execution_count": 4,
   "id": "54b020fc",
   "metadata": {},
   "outputs": [
    {
     "name": "stdout",
     "output_type": "stream",
     "text": [
      "enter a number34\n",
      "34  is not strong number\n"
     ]
    }
   ],
   "source": [
    "from math import factorial\n",
    "def strong():\n",
    "    n=int(input('enter a number'))\n",
    "    sum=0\n",
    "    num=n\n",
    "    while(num>0):\n",
    "        rem=num%10\n",
    "        sum=sum+factorial(rem)\n",
    "        num=num//10\n",
    "    if(n==sum):\n",
    "        print(n, ' is strong number')\n",
    "    else:\n",
    "        print(n, ' is not strong number')\n",
    "    pass\n",
    "\n",
    "strong()"
   ]
  },
  {
   "cell_type": "code",
   "execution_count": null,
   "id": "b0151b94",
   "metadata": {},
   "outputs": [],
   "source": []
  }
 ],
 "metadata": {
  "kernelspec": {
   "display_name": "Python 3",
   "language": "python",
   "name": "python3"
  },
  "language_info": {
   "codemirror_mode": {
    "name": "ipython",
    "version": 3
   },
   "file_extension": ".py",
   "mimetype": "text/x-python",
   "name": "python",
   "nbconvert_exporter": "python",
   "pygments_lexer": "ipython3",
   "version": "3.8.8"
  }
 },
 "nbformat": 4,
 "nbformat_minor": 5
}
