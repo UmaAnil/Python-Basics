{
 "cells": [
  {
   "cell_type": "code",
   "execution_count": 6,
   "id": "cd738ae4",
   "metadata": {},
   "outputs": [
    {
     "name": "stdout",
     "output_type": "stream",
     "text": [
      "enter length of side 1 : 2\n",
      "enter length of side 2 : 5\n",
      "enter length of side 3 : 6\n",
      "4.683748498798798\n"
     ]
    }
   ],
   "source": [
    "from math import sqrt\n",
    "def tri_area(a,b,c):\n",
    "    try:\n",
    "        s=(a+b+c)/2\n",
    "        area=sqrt(s*(s-a)*(s-b)*(s-c))\n",
    "        print(area)\n",
    "    except ValueError:\n",
    "        print(\"enter valid lengths\")\n",
    "    pass\n",
    "\n",
    "a=float(input('enter length of side 1 : '))\n",
    "b=float(input('enter length of side 2 : '))\n",
    "c=float(input('enter length of side 3 : '))\n",
    "tri_area(a,b,c)"
   ]
  },
  {
   "cell_type": "code",
   "execution_count": null,
   "id": "5724d6a0",
   "metadata": {},
   "outputs": [],
   "source": []
  }
 ],
 "metadata": {
  "kernelspec": {
   "display_name": "Python 3",
   "language": "python",
   "name": "python3"
  },
  "language_info": {
   "codemirror_mode": {
    "name": "ipython",
    "version": 3
   },
   "file_extension": ".py",
   "mimetype": "text/x-python",
   "name": "python",
   "nbconvert_exporter": "python",
   "pygments_lexer": "ipython3",
   "version": "3.8.8"
  }
 },
 "nbformat": 4,
 "nbformat_minor": 5
}
