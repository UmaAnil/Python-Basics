{
 "cells": [
  {
   "cell_type": "code",
   "execution_count": 2,
   "id": "f3fb014d",
   "metadata": {},
   "outputs": [
    {
     "name": "stdout",
     "output_type": "stream",
     "text": [
      "enter the value of coefficients and variable in the polynomial equation ax^3+bx^2+cx+d=0\n",
      "a = 5\n",
      "b = 5\n",
      "c = 6\n",
      "d = 2\n",
      "x = 8\n",
      "2930.0\n"
     ]
    }
   ],
   "source": [
    "def polynomial():\n",
    "    print('enter the value of coefficients and variable in the polynomial equation ax^3+bx^2+cx+d=0') \n",
    "    a=float(input('a = '))\n",
    "    b=float(input('b = '))\n",
    "    c=float(input('c = '))\n",
    "    d=float(input('d = '))\n",
    "    x=float(input('x = '))\n",
    "    \n",
    "    a1=a*(x**3)\n",
    "    b1=b*(x**2)\n",
    "    c1=c*x\n",
    "    \n",
    "    sum=a1+b1+c1+d\n",
    "    print(sum)\n",
    "    pass\n",
    "\n",
    "polynomial()"
   ]
  },
  {
   "cell_type": "code",
   "execution_count": null,
   "id": "1f8c7497",
   "metadata": {},
   "outputs": [],
   "source": []
  }
 ],
 "metadata": {
  "kernelspec": {
   "display_name": "Python 3",
   "language": "python",
   "name": "python3"
  },
  "language_info": {
   "codemirror_mode": {
    "name": "ipython",
    "version": 3
   },
   "file_extension": ".py",
   "mimetype": "text/x-python",
   "name": "python",
   "nbconvert_exporter": "python",
   "pygments_lexer": "ipython3",
   "version": "3.8.8"
  }
 },
 "nbformat": 4,
 "nbformat_minor": 5
}
