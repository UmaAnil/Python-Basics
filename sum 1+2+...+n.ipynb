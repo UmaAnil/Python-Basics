{
 "cells": [
  {
   "cell_type": "code",
   "execution_count": 7,
   "id": "a57fbf78",
   "metadata": {},
   "outputs": [
    {
     "name": "stdout",
     "output_type": "stream",
     "text": [
      "enter a number3\n",
      "6\n"
     ]
    }
   ],
   "source": [
    "def sum(n):\n",
    "    sum1=0\n",
    "    for i in range(n+1):\n",
    "        sum1=sum1+i\n",
    "        i=i+1\n",
    "    print(sum1)\n",
    "pass\n",
    "\n",
    "n=int(input(\"enter a number\"))\n",
    "sum(n)"
   ]
  },
  {
   "cell_type": "code",
   "execution_count": null,
   "id": "a33fa973",
   "metadata": {},
   "outputs": [],
   "source": []
  }
 ],
 "metadata": {
  "kernelspec": {
   "display_name": "Python 3",
   "language": "python",
   "name": "python3"
  },
  "language_info": {
   "codemirror_mode": {
    "name": "ipython",
    "version": 3
   },
   "file_extension": ".py",
   "mimetype": "text/x-python",
   "name": "python",
   "nbconvert_exporter": "python",
   "pygments_lexer": "ipython3",
   "version": "3.8.8"
  }
 },
 "nbformat": 4,
 "nbformat_minor": 5
}
