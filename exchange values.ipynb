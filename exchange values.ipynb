{
 "cells": [
  {
   "cell_type": "code",
   "execution_count": 2,
   "id": "c18a4768",
   "metadata": {},
   "outputs": [
    {
     "name": "stdout",
     "output_type": "stream",
     "text": [
      "x : 5\n",
      "y : 7\n",
      "\n",
      "\n",
      "\n",
      "x :  7\n",
      "y :  5\n"
     ]
    }
   ],
   "source": [
    "def exchange():\n",
    "    arr=[]\n",
    "    x=input('x : ')\n",
    "    arr.append(x)\n",
    "    y=input('y : ')\n",
    "    arr.append(y)\n",
    "    print('\\n\\n')\n",
    "    print('x : ',arr[1])\n",
    "    print('y : ',arr[0])\n",
    "    pass\n",
    "out=exchange()\n",
    "\n",
    "    \n",
    "    \n",
    "    "
   ]
  },
  {
   "cell_type": "code",
   "execution_count": null,
   "id": "dcf87dff",
   "metadata": {},
   "outputs": [],
   "source": []
  }
 ],
 "metadata": {
  "kernelspec": {
   "display_name": "Python 3",
   "language": "python",
   "name": "python3"
  },
  "language_info": {
   "codemirror_mode": {
    "name": "ipython",
    "version": 3
   },
   "file_extension": ".py",
   "mimetype": "text/x-python",
   "name": "python",
   "nbconvert_exporter": "python",
   "pygments_lexer": "ipython3",
   "version": "3.8.8"
  }
 },
 "nbformat": 4,
 "nbformat_minor": 5
}
