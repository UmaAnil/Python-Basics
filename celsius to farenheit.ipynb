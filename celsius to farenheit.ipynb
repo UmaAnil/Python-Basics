{
 "cells": [
  {
   "cell_type": "code",
   "execution_count": 1,
   "id": "09f9fe54",
   "metadata": {},
   "outputs": [
    {
     "name": "stdout",
     "output_type": "stream",
     "text": [
      "enter temperature in celsius : 0\n",
      "temperature in farenheit is :  32.0 °F\n"
     ]
    }
   ],
   "source": [
    "def cels_to_faren():\n",
    "    cels=float(input('enter temperature in celsius : '))\n",
    "    faren=(cels*9/5)+32\n",
    "    print('temperature in farenheit is : ',faren,'°F')\n",
    "    pass\n",
    "\n",
    "cels_to_faren()"
   ]
  },
  {
   "cell_type": "code",
   "execution_count": null,
   "id": "28611523",
   "metadata": {},
   "outputs": [],
   "source": []
  }
 ],
 "metadata": {
  "kernelspec": {
   "display_name": "Python 3",
   "language": "python",
   "name": "python3"
  },
  "language_info": {
   "codemirror_mode": {
    "name": "ipython",
    "version": 3
   },
   "file_extension": ".py",
   "mimetype": "text/x-python",
   "name": "python",
   "nbconvert_exporter": "python",
   "pygments_lexer": "ipython3",
   "version": "3.8.8"
  }
 },
 "nbformat": 4,
 "nbformat_minor": 5
}
